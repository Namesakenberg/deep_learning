{
  "nbformat": 4,
  "nbformat_minor": 0,
  "metadata": {
    "colab": {
      "provenance": [],
      "authorship_tag": "ABX9TyOEi9l7ITdF47+PIx9PBaHB",
      "include_colab_link": true
    },
    "kernelspec": {
      "name": "python3",
      "display_name": "Python 3"
    },
    "language_info": {
      "name": "python"
    }
  },
  "cells": [
    {
      "cell_type": "markdown",
      "metadata": {
        "id": "view-in-github",
        "colab_type": "text"
      },
      "source": [
        "<a href=\"https://colab.research.google.com/github/Namesakenberg/Deep_Learning/blob/main/memoization_use_and_example_.ipynb\" target=\"_parent\"><img src=\"https://colab.research.google.com/assets/colab-badge.svg\" alt=\"Open In Colab\"/></a>"
      ]
    },
    {
      "cell_type": "code",
      "execution_count": 7,
      "metadata": {
        "colab": {
          "base_uri": "https://localhost:8080/"
        },
        "id": "YEHo9LhVAe85",
        "outputId": "35849590-d5b5-4ba8-e974-5dea1b6fb2da"
      },
      "outputs": [
        {
          "output_type": "stream",
          "name": "stdout",
          "text": [
            "0 1 1 2 3 5 8 13 21 34 "
          ]
        }
      ],
      "source": [
        "# recursive way to print fibonacci series\n",
        "\n",
        "def fibo(n):\n",
        "  if n == 0 or n==1 :\n",
        "    return n\n",
        "  return fibo(n-1) + fibo(n-2)\n",
        "\n",
        "def show(n):\n",
        "  for i in range(n):\n",
        "    print(fibo(i) , end =\" \")\n",
        "\n",
        "\n",
        "show(10)"
      ]
    },
    {
      "cell_type": "code",
      "source": [
        "# time complexity -> O(2^n)"
      ],
      "metadata": {
        "id": "3z06yYmmDlPl"
      },
      "execution_count": null,
      "outputs": []
    },
    {
      "cell_type": "code",
      "source": [
        "# this has exponential time complexity and is an inefficient approach\n",
        "# in this method a single term is calculated multiple number of times , which makes the code inefficient\n",
        "# thus use memoization\n",
        "# a method in which time complexity is reduced by using additional space\n",
        "# the term which is previously calculated in the fibonacci series will be stored in the cache\n",
        "# thus instead if recalculating the same term just return the cached output"
      ],
      "metadata": {
        "id": "7NNGyp7hA_CF"
      },
      "execution_count": null,
      "outputs": []
    },
    {
      "cell_type": "code",
      "source": [
        "def fast_fibo(n , d):\n",
        "  if n in d :\n",
        "    return d[n]\n",
        "  else:\n",
        "    d[n] = fast_fibo(n-1 , d) + fast_fibo(n-2 , d)\n",
        "    return d[n]\n",
        "\n",
        "def print_series(n):\n",
        "  for i in range(n):\n",
        "    print(fast_fibo(i , {0:0 , 1:1}) , end = \" \")\n",
        "\n",
        "\n",
        "print_series(100)"
      ],
      "metadata": {
        "colab": {
          "base_uri": "https://localhost:8080/"
        },
        "id": "SiBtWkRCCCmh",
        "outputId": "1f47e5b5-b435-4fe2-c3a4-00bcc64bc119"
      },
      "execution_count": 11,
      "outputs": [
        {
          "output_type": "stream",
          "name": "stdout",
          "text": [
            "0 1 1 2 3 5 8 13 21 34 55 89 144 233 377 610 987 1597 2584 4181 6765 10946 17711 28657 46368 75025 121393 196418 317811 514229 832040 1346269 2178309 3524578 5702887 9227465 14930352 24157817 39088169 63245986 102334155 165580141 267914296 433494437 701408733 1134903170 1836311903 2971215073 4807526976 7778742049 12586269025 20365011074 32951280099 53316291173 86267571272 139583862445 225851433717 365435296162 591286729879 956722026041 1548008755920 2504730781961 4052739537881 6557470319842 10610209857723 17167680177565 27777890035288 44945570212853 72723460248141 117669030460994 190392490709135 308061521170129 498454011879264 806515533049393 1304969544928657 2111485077978050 3416454622906707 5527939700884757 8944394323791464 14472334024676221 23416728348467685 37889062373143906 61305790721611591 99194853094755497 160500643816367088 259695496911122585 420196140727489673 679891637638612258 1100087778366101931 1779979416004714189 2880067194370816120 4660046610375530309 7540113804746346429 12200160415121876738 19740274219868223167 31940434634990099905 51680708854858323072 83621143489848422977 135301852344706746049 218922995834555169026 "
          ]
        }
      ]
    },
    {
      "cell_type": "code",
      "source": [
        "# time complexity = O(n)\n",
        "# space comoplexity = O(n)"
      ],
      "metadata": {
        "id": "wWfrerEhDqcm"
      },
      "execution_count": null,
      "outputs": []
    },
    {
      "cell_type": "code",
      "source": [
        "# here dictionary is passed as a cache , the dictionary initially has 0:0 and 1:1 which is the base case of recursion"
      ],
      "metadata": {
        "id": "qbixQlCMC8T-"
      },
      "execution_count": null,
      "outputs": []
    },
    {
      "cell_type": "code",
      "source": [
        "# in case of the backpropagation for a neural network with multiple hidden layers,\n",
        "# instead of finding the derivatives for every node,  what we do is :\n",
        "# if the the deriviative is calculated for the first time , calculate it and store in the cache\n",
        "# for all the next occurences , use the value of the derivative from the cache memory\n",
        "# thus while differentiating using chain rule we can use the stored derivative instead of calculating it again multiple times."
      ],
      "metadata": {
        "id": "iMgIjY2iUvOz"
      },
      "execution_count": null,
      "outputs": []
    }
  ]
}